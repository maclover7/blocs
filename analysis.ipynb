{
 "cells": [
  {
   "cell_type": "markdown",
   "id": "f14b6da7-ee19-44fb-ae3f-ec1b24a98024",
   "metadata": {},
   "source": [
    "# blocs"
   ]
  },
  {
   "cell_type": "code",
   "execution_count": 1,
   "id": "c95d9741-9d0a-4243-a77c-44a47171f7a9",
   "metadata": {},
   "outputs": [],
   "source": [
    "import pandas as pd\n",
    "import requests"
   ]
  },
  {
   "cell_type": "code",
   "execution_count": 2,
   "id": "09b71748-c2e1-4ed8-914f-c3ffef2b9495",
   "metadata": {},
   "outputs": [],
   "source": [
    "BLOCS = [\n",
    "    ['vote_type', 'mail'],\n",
    "    ['vote_type', 'eday'],\n",
    "    ['pgh_region', 'nside'],\n",
    "    ['pgh_region', 'somon'],\n",
    "    ['pgh_region', 'dt_oak_haz'],\n",
    "    ['pgh_region', 'w14'],\n",
    "    ['pgh_region', 'rem_ee'],\n",
    "]"
   ]
  },
  {
   "cell_type": "markdown",
   "id": "0d45101c-0b6f-4c34-b7cd-90d8946a733b",
   "metadata": {},
   "source": [
    "### 2021 Pittsburgh mayoral primary"
   ]
  },
  {
   "cell_type": "code",
   "execution_count": 3,
   "id": "6f071d61-2e61-4356-8966-ede26081a903",
   "metadata": {},
   "outputs": [],
   "source": [
    "### Set candidate names, election ID\n",
    "candidates = ['Gainey', 'Peduto']\n",
    "election_id = '0032'\n",
    "\n",
    "pghmayoral21 = pd.DataFrame(columns=['class', 'type'])\n",
    "pghmayoral21['pct_gain21'] = ''\n",
    "pghmayoral21['pct_pedu21'] = ''\n",
    "pghmayoral21['pct_othr21'] = ''"
   ]
  },
  {
   "cell_type": "code",
   "execution_count": 4,
   "id": "1f665fbc-fd46-430d-b5d5-ed4c979b44d6",
   "metadata": {},
   "outputs": [],
   "source": [
    "### Get mail results  \n",
    "r = requests.get(\n",
    "    'https://results.enr.clarityelections.com//PA/Allegheny/109361/277443/json/Absentee.json',\n",
    "    headers={\n",
    "        'User-Agent': 'Mozilla/5.0 (Macintosh; Intel Mac OS X 10_15_7) AppleWebKit/537.36 (KHTML, like Gecko) Chrome/106.0.0.0 Safari/537.36'\n",
    "  })\n",
    "r = r.json()\n",
    "\n",
    "mail_sum = [p for p in r['Contests'] if p['A'] == '-1'][0]\n",
    "mail_sum = mail_sum['V'][mail_sum['C'].index(election_id)]\n",
    "mail_sum = [mail_sum[0]/sum(mail_sum), mail_sum[1]/sum(mail_sum), sum(mail_sum[len(candidates):])/sum(mail_sum)]\n",
    "\n",
    "pghmayoral21.loc[len(pghmayoral21.index)] = ['vote_type', 'mail'] + mail_sum"
   ]
  },
  {
   "cell_type": "code",
   "execution_count": 5,
   "id": "d2fb54f5-dd6f-4503-bf61-403fa4b39634",
   "metadata": {},
   "outputs": [],
   "source": [
    "### Get eday results  \n",
    "r = requests.get(\n",
    "    'https://results.enr.clarityelections.com//PA/Allegheny/109361/277443/json/Election_Day.json',\n",
    "    headers={\n",
    "        'User-Agent': 'Mozilla/5.0 (Macintosh; Intel Mac OS X 10_15_7) AppleWebKit/537.36 (KHTML, like Gecko) Chrome/106.0.0.0 Safari/537.36'\n",
    "  })\n",
    "r = r.json()\n",
    "\n",
    "eday_sum = [p for p in r['Contests'] if p['A'] == '-1'][0]\n",
    "eday_sum = eday_sum['V'][eday_sum['C'].index(election_id)]\n",
    "eday_sum = [eday_sum[0]/sum(eday_sum), eday_sum[1]/sum(eday_sum), sum(eday_sum[len(candidates):])/sum(eday_sum)]\n",
    "\n",
    "pghmayoral21.loc[len(pghmayoral21.index)] = ['vote_type', 'eday'] + eday_sum"
   ]
  },
  {
   "cell_type": "code",
   "execution_count": 6,
   "id": "63c0f1ed-105a-4cbc-8011-cc1e0548ef08",
   "metadata": {},
   "outputs": [
    {
     "data": {
      "text/html": [
       "<div>\n",
       "<style scoped>\n",
       "    .dataframe tbody tr th:only-of-type {\n",
       "        vertical-align: middle;\n",
       "    }\n",
       "\n",
       "    .dataframe tbody tr th {\n",
       "        vertical-align: top;\n",
       "    }\n",
       "\n",
       "    .dataframe thead th {\n",
       "        text-align: right;\n",
       "    }\n",
       "</style>\n",
       "<table border=\"1\" class=\"dataframe\">\n",
       "  <thead>\n",
       "    <tr style=\"text-align: right;\">\n",
       "      <th></th>\n",
       "      <th>class</th>\n",
       "      <th>type</th>\n",
       "      <th>pct_gain21</th>\n",
       "      <th>pct_pedu21</th>\n",
       "      <th>pct_othr21</th>\n",
       "    </tr>\n",
       "  </thead>\n",
       "  <tbody>\n",
       "    <tr>\n",
       "      <th>0</th>\n",
       "      <td>vote_type</td>\n",
       "      <td>mail</td>\n",
       "      <td>0.357575</td>\n",
       "      <td>0.526308</td>\n",
       "      <td>0.116116</td>\n",
       "    </tr>\n",
       "    <tr>\n",
       "      <th>1</th>\n",
       "      <td>vote_type</td>\n",
       "      <td>eday</td>\n",
       "      <td>0.525235</td>\n",
       "      <td>0.312933</td>\n",
       "      <td>0.161832</td>\n",
       "    </tr>\n",
       "  </tbody>\n",
       "</table>\n",
       "</div>"
      ],
      "text/plain": [
       "       class  type  pct_gain21  pct_pedu21  pct_othr21\n",
       "0  vote_type  mail    0.357575    0.526308    0.116116\n",
       "1  vote_type  eday    0.525235    0.312933    0.161832"
      ]
     },
     "execution_count": 6,
     "metadata": {},
     "output_type": "execute_result"
    }
   ],
   "source": [
    "pghmayoral21"
   ]
  },
  {
   "cell_type": "markdown",
   "id": "196c2952-e5f6-4685-9df5-71f450b889cc",
   "metadata": {},
   "source": [
    "### Results"
   ]
  },
  {
   "cell_type": "code",
   "execution_count": 7,
   "id": "1241df30-1957-459b-a0d4-6b87de7550dc",
   "metadata": {},
   "outputs": [
    {
     "data": {
      "text/html": [
       "<div>\n",
       "<style scoped>\n",
       "    .dataframe tbody tr th:only-of-type {\n",
       "        vertical-align: middle;\n",
       "    }\n",
       "\n",
       "    .dataframe tbody tr th {\n",
       "        vertical-align: top;\n",
       "    }\n",
       "\n",
       "    .dataframe thead th {\n",
       "        text-align: right;\n",
       "    }\n",
       "</style>\n",
       "<table border=\"1\" class=\"dataframe\">\n",
       "  <thead>\n",
       "    <tr style=\"text-align: right;\">\n",
       "      <th></th>\n",
       "      <th>class</th>\n",
       "      <th>type</th>\n",
       "      <th>pct_gain21</th>\n",
       "      <th>pct_pedu21</th>\n",
       "      <th>pct_othr21</th>\n",
       "    </tr>\n",
       "  </thead>\n",
       "  <tbody>\n",
       "    <tr>\n",
       "      <th>0</th>\n",
       "      <td>vote_type</td>\n",
       "      <td>mail</td>\n",
       "      <td>0.357575</td>\n",
       "      <td>0.526308</td>\n",
       "      <td>0.116116</td>\n",
       "    </tr>\n",
       "    <tr>\n",
       "      <th>1</th>\n",
       "      <td>vote_type</td>\n",
       "      <td>eday</td>\n",
       "      <td>0.525235</td>\n",
       "      <td>0.312933</td>\n",
       "      <td>0.161832</td>\n",
       "    </tr>\n",
       "  </tbody>\n",
       "</table>\n",
       "</div>"
      ],
      "text/plain": [
       "       class  type  pct_gain21  pct_pedu21  pct_othr21\n",
       "0  vote_type  mail    0.357575    0.526308    0.116116\n",
       "1  vote_type  eday    0.525235    0.312933    0.161832"
      ]
     },
     "execution_count": 7,
     "metadata": {},
     "output_type": "execute_result"
    }
   ],
   "source": [
    "dfblocs = pd.DataFrame(BLOCS, columns=['class', 'type'])\n",
    "pd.merge(dfblocs, pghmayoral21, on=['class', 'type'])"
   ]
  }
 ],
 "metadata": {
  "kernelspec": {
   "display_name": "Python 3 (ipykernel)",
   "language": "python",
   "name": "python3"
  },
  "language_info": {
   "codemirror_mode": {
    "name": "ipython",
    "version": 3
   },
   "file_extension": ".py",
   "mimetype": "text/x-python",
   "name": "python",
   "nbconvert_exporter": "python",
   "pygments_lexer": "ipython3",
   "version": "3.9.15"
  }
 },
 "nbformat": 4,
 "nbformat_minor": 5
}
