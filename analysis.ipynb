{
 "cells": [
  {
   "cell_type": "markdown",
   "id": "f14b6da7-ee19-44fb-ae3f-ec1b24a98024",
   "metadata": {},
   "source": [
    "# blocs"
   ]
  },
  {
   "cell_type": "code",
   "execution_count": 1,
   "id": "c95d9741-9d0a-4243-a77c-44a47171f7a9",
   "metadata": {},
   "outputs": [],
   "source": [
    "import pandas as pd"
   ]
  },
  {
   "cell_type": "code",
   "execution_count": 2,
   "id": "09b71748-c2e1-4ed8-914f-c3ffef2b9495",
   "metadata": {},
   "outputs": [],
   "source": [
    "BLOCS = [\n",
    "    ['vote_type', 'mail'],\n",
    "    ['vote_type', 'eday'],\n",
    "    ['pgh_region', 'nside'],\n",
    "    ['pgh_region', 'somon'],\n",
    "    ['pgh_region', 'dt_oak_haz'],\n",
    "    ['pgh_region', 'w14'],\n",
    "    ['pgh_region', 'rem_ee'],\n",
    "]"
   ]
  },
  {
   "cell_type": "markdown",
   "id": "0d45101c-0b6f-4c34-b7cd-90d8946a733b",
   "metadata": {},
   "source": [
    "### 2021 Pittsburgh mayoral primary"
   ]
  },
  {
   "cell_type": "code",
   "execution_count": 3,
   "id": "c00fd1c3-45d8-4d60-add1-55dff31b60fd",
   "metadata": {},
   "outputs": [],
   "source": [
    "pghmayoral21 = pd.DataFrame(BLOCS, columns=['class', 'type'])\n",
    "\n",
    "pghmayoral21['pct_gain21'] = ''\n",
    "pghmayoral21['pct_pedu21'] = ''\n",
    "pghmayoral21['pct_othr21'] = ''"
   ]
  },
  {
   "cell_type": "markdown",
   "id": "196c2952-e5f6-4685-9df5-71f450b889cc",
   "metadata": {},
   "source": [
    "### Results"
   ]
  },
  {
   "cell_type": "code",
   "execution_count": 4,
   "id": "1241df30-1957-459b-a0d4-6b87de7550dc",
   "metadata": {},
   "outputs": [
    {
     "data": {
      "text/html": [
       "<div>\n",
       "<style scoped>\n",
       "    .dataframe tbody tr th:only-of-type {\n",
       "        vertical-align: middle;\n",
       "    }\n",
       "\n",
       "    .dataframe tbody tr th {\n",
       "        vertical-align: top;\n",
       "    }\n",
       "\n",
       "    .dataframe thead th {\n",
       "        text-align: right;\n",
       "    }\n",
       "</style>\n",
       "<table border=\"1\" class=\"dataframe\">\n",
       "  <thead>\n",
       "    <tr style=\"text-align: right;\">\n",
       "      <th></th>\n",
       "      <th>class</th>\n",
       "      <th>type</th>\n",
       "      <th>pct_gain21</th>\n",
       "      <th>pct_pedu21</th>\n",
       "      <th>pct_othr21</th>\n",
       "    </tr>\n",
       "  </thead>\n",
       "  <tbody>\n",
       "    <tr>\n",
       "      <th>0</th>\n",
       "      <td>vote_type</td>\n",
       "      <td>mail</td>\n",
       "      <td></td>\n",
       "      <td></td>\n",
       "      <td></td>\n",
       "    </tr>\n",
       "    <tr>\n",
       "      <th>1</th>\n",
       "      <td>vote_type</td>\n",
       "      <td>eday</td>\n",
       "      <td></td>\n",
       "      <td></td>\n",
       "      <td></td>\n",
       "    </tr>\n",
       "    <tr>\n",
       "      <th>2</th>\n",
       "      <td>pgh_region</td>\n",
       "      <td>nside</td>\n",
       "      <td></td>\n",
       "      <td></td>\n",
       "      <td></td>\n",
       "    </tr>\n",
       "    <tr>\n",
       "      <th>3</th>\n",
       "      <td>pgh_region</td>\n",
       "      <td>somon</td>\n",
       "      <td></td>\n",
       "      <td></td>\n",
       "      <td></td>\n",
       "    </tr>\n",
       "    <tr>\n",
       "      <th>4</th>\n",
       "      <td>pgh_region</td>\n",
       "      <td>dt_oak_haz</td>\n",
       "      <td></td>\n",
       "      <td></td>\n",
       "      <td></td>\n",
       "    </tr>\n",
       "    <tr>\n",
       "      <th>5</th>\n",
       "      <td>pgh_region</td>\n",
       "      <td>w14</td>\n",
       "      <td></td>\n",
       "      <td></td>\n",
       "      <td></td>\n",
       "    </tr>\n",
       "    <tr>\n",
       "      <th>6</th>\n",
       "      <td>pgh_region</td>\n",
       "      <td>rem_ee</td>\n",
       "      <td></td>\n",
       "      <td></td>\n",
       "      <td></td>\n",
       "    </tr>\n",
       "  </tbody>\n",
       "</table>\n",
       "</div>"
      ],
      "text/plain": [
       "        class        type pct_gain21 pct_pedu21 pct_othr21\n",
       "0   vote_type        mail                                 \n",
       "1   vote_type        eday                                 \n",
       "2  pgh_region       nside                                 \n",
       "3  pgh_region       somon                                 \n",
       "4  pgh_region  dt_oak_haz                                 \n",
       "5  pgh_region         w14                                 \n",
       "6  pgh_region      rem_ee                                 "
      ]
     },
     "execution_count": 4,
     "metadata": {},
     "output_type": "execute_result"
    }
   ],
   "source": [
    "dfblocs = pd.DataFrame(BLOCS, columns=['class', 'type'])\n",
    "pd.merge(dfblocs, pghmayoral21, on=['class', 'type'])"
   ]
  }
 ],
 "metadata": {
  "kernelspec": {
   "display_name": "Python 3 (ipykernel)",
   "language": "python",
   "name": "python3"
  },
  "language_info": {
   "codemirror_mode": {
    "name": "ipython",
    "version": 3
   },
   "file_extension": ".py",
   "mimetype": "text/x-python",
   "name": "python",
   "nbconvert_exporter": "python",
   "pygments_lexer": "ipython3",
   "version": "3.9.15"
  }
 },
 "nbformat": 4,
 "nbformat_minor": 5
}
