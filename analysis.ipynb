{
 "cells": [
  {
   "cell_type": "markdown",
   "id": "f14b6da7-ee19-44fb-ae3f-ec1b24a98024",
   "metadata": {},
   "source": [
    "# blocs"
   ]
  },
  {
   "cell_type": "code",
   "execution_count": 1,
   "id": "c95d9741-9d0a-4243-a77c-44a47171f7a9",
   "metadata": {},
   "outputs": [],
   "source": [
    "import pandas as pd\n",
    "import re\n",
    "import requests"
   ]
  },
  {
   "cell_type": "code",
   "execution_count": 2,
   "id": "09b71748-c2e1-4ed8-914f-c3ffef2b9495",
   "metadata": {},
   "outputs": [],
   "source": [
    "BLOCS = [\n",
    "    ['vote_type', 'mail'],\n",
    "    ['vote_type', 'eday'],\n",
    "    ['pgh_region', 'nside'],\n",
    "    ['pgh_region', 'somon'],\n",
    "    ['pgh_region', 'dt_oak_haz'],\n",
    "    ['pgh_region', 'w14'],\n",
    "    ['pgh_region', 'rem_ee'],\n",
    "]"
   ]
  },
  {
   "cell_type": "code",
   "execution_count": 3,
   "id": "bed06353-ae96-42c5-a802-feb87a983e10",
   "metadata": {},
   "outputs": [],
   "source": [
    "def get_vote_type_pct(vote_type, candidates):\n",
    "    r = requests.get(\n",
    "        'https://results.enr.clarityelections.com/PA/Allegheny/109361/277443/json/%s.json' % vote_type,\n",
    "        headers={\n",
    "            'User-Agent': 'Mozilla/5.0 (Macintosh; Intel Mac OS X 10_15_7) AppleWebKit/537.36 (KHTML, like Gecko) Chrome/106.0.0.0 Safari/537.36'\n",
    "      })\n",
    "    r = r.json()\n",
    "\n",
    "    vote_type_sum = [p for p in r['Contests'] if p['A'] == '-1'][0]\n",
    "    election_vote_type_sum = vote_type_sum['V'][vote_type_sum['C'].index(election_id)]\n",
    "    return [\n",
    "        election_vote_type_sum[0]/sum(election_vote_type_sum),\n",
    "        election_vote_type_sum[1]/sum(election_vote_type_sum),\n",
    "        sum(election_vote_type_sum[(len(candidates) - 1):])/sum(election_vote_type_sum)\n",
    "    ]"
   ]
  },
  {
   "cell_type": "markdown",
   "id": "0d45101c-0b6f-4c34-b7cd-90d8946a733b",
   "metadata": {},
   "source": [
    "### 2021 Pittsburgh mayoral primary"
   ]
  },
  {
   "cell_type": "code",
   "execution_count": 4,
   "id": "6f071d61-2e61-4356-8966-ede26081a903",
   "metadata": {},
   "outputs": [],
   "source": [
    "### Set candidate names, election ID\n",
    "candidates = ['Gainey', 'Peduto', 'Other']\n",
    "election_id = '0032'\n",
    "\n",
    "pghmayoral21 = pd.DataFrame(columns=['class', 'type'])\n",
    "pghmayoral21['pct_gain21'] = ''\n",
    "pghmayoral21['pct_pedu21'] = ''\n",
    "pghmayoral21['pct_othe21'] = ''"
   ]
  },
  {
   "cell_type": "code",
   "execution_count": 5,
   "id": "1f665fbc-fd46-430d-b5d5-ed4c979b44d6",
   "metadata": {},
   "outputs": [],
   "source": [
    "### Get mail, eday results\n",
    "pghmayoral21.loc[len(pghmayoral21.index)] = ['vote_type', 'mail'] + get_vote_type_pct('Absentee', candidates)\n",
    "\n",
    "pghmayoral21.loc[len(pghmayoral21.index)] = ['vote_type', 'eday'] + get_vote_type_pct('Election_Day', candidates)"
   ]
  },
  {
   "cell_type": "code",
   "execution_count": 6,
   "id": "f79751ec-070d-48c4-9b09-a564b0b52101",
   "metadata": {},
   "outputs": [],
   "source": [
    "### Get precinct results\n",
    "r = requests.get(\n",
    "    'https://results.enr.clarityelections.com/PA/Allegheny/109361/277443/json/ALL.json',\n",
    "    headers={\n",
    "        'User-Agent': 'Mozilla/5.0 (Macintosh; Intel Mac OS X 10_15_7) AppleWebKit/537.36 (KHTML, like Gecko) Chrome/106.0.0.0 Safari/537.36'\n",
    "  })\n",
    "r = r.json()\n",
    "\n",
    "tempdf = pd.DataFrame(columns=(['precinct'] + candidates))\n",
    "\n",
    "for precinct in r['Contests']:\n",
    "    if election_id in precinct['C']:\n",
    "        precinct_results = precinct['V'][precinct['C'].index(election_id)]\n",
    "        precinct_results = precinct_results[0:(len(candidates) - 1)] + [sum(precinct_results[(len(candidates) - 1):])]\n",
    "        tempdf.loc[len(tempdf.index)] = [precinct['A']] + precinct_results\n",
    "\n",
    "tempdf = tempdf.head(-1)"
   ]
  },
  {
   "cell_type": "code",
   "execution_count": 7,
   "id": "d4fa586b-6974-4f98-a436-b4aecf3e7099",
   "metadata": {},
   "outputs": [],
   "source": [
    "PRECINCT_REGEX_PGH = 'PITTSBURGH WARD (\\d+).*'\n",
    "def group_pgh_precinct(precinct):\n",
    "    ward = int(re.match(PRECINCT_REGEX_PGH, precinct).group(1))\n",
    "\n",
    "    if ward == 14:\n",
    "        return 'w14'\n",
    "    elif ward in range(1, 7) or ward == 15:\n",
    "        return 'dt_oak_haz'\n",
    "    elif ward in range(6, 15):\n",
    "        return 'rem_ee'\n",
    "    elif ward in range(16, 21) or ward in range(27, 33):\n",
    "        return 'somon'\n",
    "    elif ward in range(21, 27):\n",
    "        return 'nside'\n",
    "\n",
    "tempdf['type'] = tempdf.precinct.apply(group_pgh_precinct)"
   ]
  },
  {
   "cell_type": "code",
   "execution_count": 8,
   "id": "828ef83f-1601-4b60-9836-72e299c5fab1",
   "metadata": {},
   "outputs": [
    {
     "name": "stderr",
     "output_type": "stream",
     "text": [
      "/var/folders/m6/nmg96kbd65n3tz43pzrdnnw00000gn/T/ipykernel_63385/375207897.py:4: FutureWarning: Dropping of nuisance columns in DataFrame reductions (with 'numeric_only=None') is deprecated; in a future version this will raise TypeError.  Select only valid columns before calling the reduction.\n",
      "  tdf['total'] = tdf.sum(axis=1)\n"
     ]
    }
   ],
   "source": [
    "tdf = pd.pivot_table(tempdf, index='type', values=candidates, aggfunc='sum').reset_index()\n",
    "tdf['class'] = 'pgh_region'\n",
    "\n",
    "tdf['total'] = tdf.sum(axis=1)\n",
    "for candidate in candidates:\n",
    "    tdf['pct_%s21' % candidate[0:4].lower()] = tdf[candidate] / tdf.total"
   ]
  },
  {
   "cell_type": "code",
   "execution_count": 9,
   "id": "8ecdf142-575c-4de7-83cd-9e0ad4cc79d1",
   "metadata": {},
   "outputs": [],
   "source": [
    "pghmayoral21 = pd.concat([pghmayoral21, tdf[pghmayoral21.columns]])"
   ]
  },
  {
   "cell_type": "markdown",
   "id": "196c2952-e5f6-4685-9df5-71f450b889cc",
   "metadata": {},
   "source": [
    "### Results"
   ]
  },
  {
   "cell_type": "code",
   "execution_count": 10,
   "id": "1241df30-1957-459b-a0d4-6b87de7550dc",
   "metadata": {},
   "outputs": [
    {
     "data": {
      "text/html": [
       "<div>\n",
       "<style scoped>\n",
       "    .dataframe tbody tr th:only-of-type {\n",
       "        vertical-align: middle;\n",
       "    }\n",
       "\n",
       "    .dataframe tbody tr th {\n",
       "        vertical-align: top;\n",
       "    }\n",
       "\n",
       "    .dataframe thead th {\n",
       "        text-align: right;\n",
       "    }\n",
       "</style>\n",
       "<table border=\"1\" class=\"dataframe\">\n",
       "  <thead>\n",
       "    <tr style=\"text-align: right;\">\n",
       "      <th></th>\n",
       "      <th>class</th>\n",
       "      <th>type</th>\n",
       "      <th>pct_gain21</th>\n",
       "      <th>pct_pedu21</th>\n",
       "      <th>pct_othe21</th>\n",
       "    </tr>\n",
       "  </thead>\n",
       "  <tbody>\n",
       "    <tr>\n",
       "      <th>0</th>\n",
       "      <td>vote_type</td>\n",
       "      <td>mail</td>\n",
       "      <td>0.357575</td>\n",
       "      <td>0.526308</td>\n",
       "      <td>0.116116</td>\n",
       "    </tr>\n",
       "    <tr>\n",
       "      <th>1</th>\n",
       "      <td>vote_type</td>\n",
       "      <td>eday</td>\n",
       "      <td>0.525235</td>\n",
       "      <td>0.312933</td>\n",
       "      <td>0.161832</td>\n",
       "    </tr>\n",
       "    <tr>\n",
       "      <th>2</th>\n",
       "      <td>pgh_region</td>\n",
       "      <td>nside</td>\n",
       "      <td>0.483487</td>\n",
       "      <td>0.368371</td>\n",
       "      <td>0.148141</td>\n",
       "    </tr>\n",
       "    <tr>\n",
       "      <th>3</th>\n",
       "      <td>pgh_region</td>\n",
       "      <td>somon</td>\n",
       "      <td>0.305441</td>\n",
       "      <td>0.407443</td>\n",
       "      <td>0.287116</td>\n",
       "    </tr>\n",
       "    <tr>\n",
       "      <th>4</th>\n",
       "      <td>pgh_region</td>\n",
       "      <td>dt_oak_haz</td>\n",
       "      <td>0.509474</td>\n",
       "      <td>0.385675</td>\n",
       "      <td>0.104851</td>\n",
       "    </tr>\n",
       "    <tr>\n",
       "      <th>5</th>\n",
       "      <td>pgh_region</td>\n",
       "      <td>w14</td>\n",
       "      <td>0.441891</td>\n",
       "      <td>0.518149</td>\n",
       "      <td>0.039959</td>\n",
       "    </tr>\n",
       "    <tr>\n",
       "      <th>6</th>\n",
       "      <td>pgh_region</td>\n",
       "      <td>rem_ee</td>\n",
       "      <td>0.617377</td>\n",
       "      <td>0.311485</td>\n",
       "      <td>0.071138</td>\n",
       "    </tr>\n",
       "  </tbody>\n",
       "</table>\n",
       "</div>"
      ],
      "text/plain": [
       "        class        type  pct_gain21  pct_pedu21  pct_othe21\n",
       "0   vote_type        mail    0.357575    0.526308    0.116116\n",
       "1   vote_type        eday    0.525235    0.312933    0.161832\n",
       "2  pgh_region       nside    0.483487    0.368371    0.148141\n",
       "3  pgh_region       somon    0.305441    0.407443    0.287116\n",
       "4  pgh_region  dt_oak_haz    0.509474    0.385675    0.104851\n",
       "5  pgh_region         w14    0.441891    0.518149    0.039959\n",
       "6  pgh_region      rem_ee    0.617377    0.311485    0.071138"
      ]
     },
     "execution_count": 10,
     "metadata": {},
     "output_type": "execute_result"
    }
   ],
   "source": [
    "dfblocs = pd.DataFrame(BLOCS, columns=['class', 'type'])\n",
    "pd.merge(dfblocs, pghmayoral21, on=['class', 'type'])"
   ]
  }
 ],
 "metadata": {
  "kernelspec": {
   "display_name": "Python 3 (ipykernel)",
   "language": "python",
   "name": "python3"
  },
  "language_info": {
   "codemirror_mode": {
    "name": "ipython",
    "version": 3
   },
   "file_extension": ".py",
   "mimetype": "text/x-python",
   "name": "python",
   "nbconvert_exporter": "python",
   "pygments_lexer": "ipython3",
   "version": "3.9.15"
  }
 },
 "nbformat": 4,
 "nbformat_minor": 5
}
