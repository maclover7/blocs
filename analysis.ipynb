{
 "cells": [
  {
   "cell_type": "markdown",
   "id": "f14b6da7-ee19-44fb-ae3f-ec1b24a98024",
   "metadata": {},
   "source": [
    "# blocs"
   ]
  },
  {
   "cell_type": "code",
   "execution_count": 1,
   "id": "c95d9741-9d0a-4243-a77c-44a47171f7a9",
   "metadata": {},
   "outputs": [],
   "source": [
    "from functools import reduce\n",
    "import pandas as pd\n",
    "import re\n",
    "import requests"
   ]
  },
  {
   "cell_type": "code",
   "execution_count": 2,
   "id": "09b71748-c2e1-4ed8-914f-c3ffef2b9495",
   "metadata": {},
   "outputs": [],
   "source": [
    "BLOCS = [\n",
    "    ['vote_type', 'mail'],\n",
    "    ['vote_type', 'eday'],\n",
    "    ['pgh_region', 'nside'],\n",
    "    ['pgh_region', 'somon'],\n",
    "    ['pgh_region', 'dt_oak_haz'],\n",
    "    ['pgh_region', 'w14'],\n",
    "    ['pgh_region', 'rem_ee'],\n",
    "]"
   ]
  },
  {
   "cell_type": "code",
   "execution_count": 3,
   "id": "bed06353-ae96-42c5-a802-feb87a983e10",
   "metadata": {},
   "outputs": [],
   "source": [
    "def get_vote_type_pct(vote_type, candidates):\n",
    "    r = requests.get(\n",
    "        'https://results.enr.clarityelections.com/PA/Allegheny/109361/277443/json/%s.json' % vote_type,\n",
    "        headers={\n",
    "            'User-Agent': 'Mozilla/5.0 (Macintosh; Intel Mac OS X 10_15_7) AppleWebKit/537.36 (KHTML, like Gecko) Chrome/106.0.0.0 Safari/537.36'\n",
    "      })\n",
    "    r = r.json()\n",
    "\n",
    "    vote_type_sum = [p for p in r['Contests'] if p['A'] == '-1'][0]\n",
    "    election_vote_type_sum = vote_type_sum['V'][vote_type_sum['C'].index(election_id)]\n",
    "    return [\n",
    "        election_vote_type_sum[0]/sum(election_vote_type_sum),\n",
    "        election_vote_type_sum[1]/sum(election_vote_type_sum),\n",
    "        sum(election_vote_type_sum[(len(candidates) - 1):])/sum(election_vote_type_sum)\n",
    "    ]"
   ]
  },
  {
   "cell_type": "code",
   "execution_count": 4,
   "id": "5025a1fd-0f51-4372-96c3-2e6f073b3064",
   "metadata": {},
   "outputs": [],
   "source": [
    "PRECINCT_REGEX_PGH = 'PITTSBURGH \\w+ (\\d+) \\w+ \\d+'\n",
    "\n",
    "def group_pgh_precinct(precinct):\n",
    "    ward = int(re.match(PRECINCT_REGEX_PGH, precinct).group(1))\n",
    "\n",
    "    if ward == 14:\n",
    "        return 'w14'\n",
    "    elif ward in range(1, 7) or ward == 15:\n",
    "        return 'dt_oak_haz'\n",
    "    elif ward in range(6, 15):\n",
    "        return 'rem_ee'\n",
    "    elif ward in range(16, 21) or ward in range(27, 33):\n",
    "        return 'somon'\n",
    "    elif ward in range(21, 27):\n",
    "        return 'nside'\n",
    "\n",
    "def get_vote_region_pct(candidates, year, central_election_id, current_version):\n",
    "    # Get precinct results\n",
    "    r = requests.get(\n",
    "        'https://results.enr.clarityelections.com/PA/Allegheny/%s/%s/json/ALL.json' % (central_election_id, current_version),\n",
    "        headers={\n",
    "            'User-Agent': 'Mozilla/5.0 (Macintosh; Intel Mac OS X 10_15_7) AppleWebKit/537.36 (KHTML, like Gecko) Chrome/106.0.0.0 Safari/537.36'\n",
    "      })\n",
    "    r = r.json()\n",
    "\n",
    "    results = pd.DataFrame(columns=(['precinct'] + candidates))\n",
    "    for precinct in r['Contests']:\n",
    "        if election_id in precinct['C'] and precinct['A'].startswith('PITTSBURGH'):\n",
    "            precinct_results = precinct['V'][precinct['C'].index(election_id)]\n",
    "            precinct_results = precinct_results[0:(len(candidates) - 1)] + [sum(precinct_results[(len(candidates) - 1):])]\n",
    "            results.loc[len(results.index)] = [precinct['A']] + precinct_results\n",
    "\n",
    "    results = results.head(-1)\n",
    "    \n",
    "    ### Group by voting region\n",
    "    results['type'] = results.precinct.apply(group_pgh_precinct)\n",
    "    \n",
    "    ### Sum by voting region, calculate candidate percentage\n",
    "    results = pd.pivot_table(results, index='type', values=candidates, aggfunc='sum').reset_index()\n",
    "    results['class'] = 'pgh_region'\n",
    "\n",
    "    results['total'] = results.sum(axis=1)\n",
    "    for candidate in candidates:\n",
    "        results['pct_%s%s' % (candidate[0:4].lower(), year)] = results[candidate] / results.total\n",
    "        \n",
    "    return results    "
   ]
  },
  {
   "cell_type": "markdown",
   "id": "a2089325-2870-4b09-a682-a95b124f09cf",
   "metadata": {},
   "source": [
    "### 2019 ACC at-large primary"
   ]
  },
  {
   "cell_type": "code",
   "execution_count": 5,
   "id": "0254d04a-ff8e-4261-b6cc-ba0f3bc437fc",
   "metadata": {},
   "outputs": [],
   "source": [
    "### Set candidate names, election ID\n",
    "candidates = ['Hallam', 'DeFazio', 'Other']\n",
    "election_id = '0113'\n",
    "\n",
    "acc19 = pd.DataFrame(columns=['class', 'type'])\n",
    "acc19['pct_hall19'] = ''\n",
    "acc19['pct_defa19'] = ''\n",
    "acc19['pct_othe19'] = ''"
   ]
  },
  {
   "cell_type": "code",
   "execution_count": 6,
   "id": "cee9b460-12fd-486f-b090-87a8f5f07e25",
   "metadata": {},
   "outputs": [],
   "source": [
    "### Zero-count the vote-type breakdown (VBM not available)\n",
    "acc19.loc[len(acc19.index)] = ['vote_type', 'mail'] + [0, 0, 0]\n",
    "acc19.loc[len(acc19.index)] = ['vote_type', 'eday'] + [0, 0, 0]"
   ]
  },
  {
   "cell_type": "code",
   "execution_count": 7,
   "id": "e6fe87f1-33c1-400a-acb0-84ebbdb0ddde",
   "metadata": {},
   "outputs": [
    {
     "name": "stderr",
     "output_type": "stream",
     "text": [
      "/var/folders/m6/nmg96kbd65n3tz43pzrdnnw00000gn/T/ipykernel_63913/3360906629.py:42: FutureWarning: Dropping of nuisance columns in DataFrame reductions (with 'numeric_only=None') is deprecated; in a future version this will raise TypeError.  Select only valid columns before calling the reduction.\n",
      "  results['total'] = results.sum(axis=1)\n"
     ]
    }
   ],
   "source": [
    "### Get precinct results\n",
    "voting_region_results = get_vote_region_pct(candidates, '19', '95692', '228690')\n",
    "acc19 = pd.concat([acc19, voting_region_results[acc19.columns]])"
   ]
  },
  {
   "cell_type": "markdown",
   "id": "0d45101c-0b6f-4c34-b7cd-90d8946a733b",
   "metadata": {},
   "source": [
    "### 2021 Pittsburgh mayoral primary"
   ]
  },
  {
   "cell_type": "code",
   "execution_count": 8,
   "id": "6f071d61-2e61-4356-8966-ede26081a903",
   "metadata": {},
   "outputs": [],
   "source": [
    "### Set candidate names, election ID\n",
    "candidates = ['Gainey', 'Peduto', 'Other']\n",
    "election_id = '0032'\n",
    "\n",
    "pghmayoral21 = pd.DataFrame(columns=['class', 'type'])\n",
    "pghmayoral21['pct_gain21'] = ''\n",
    "pghmayoral21['pct_pedu21'] = ''\n",
    "pghmayoral21['pct_othe21'] = ''"
   ]
  },
  {
   "cell_type": "code",
   "execution_count": 9,
   "id": "1f665fbc-fd46-430d-b5d5-ed4c979b44d6",
   "metadata": {},
   "outputs": [],
   "source": [
    "### Get mail, eday results\n",
    "pghmayoral21.loc[len(pghmayoral21.index)] = ['vote_type', 'mail'] + get_vote_type_pct('Absentee', candidates)\n",
    "pghmayoral21.loc[len(pghmayoral21.index)] = ['vote_type', 'eday'] + get_vote_type_pct('Election_Day', candidates)"
   ]
  },
  {
   "cell_type": "code",
   "execution_count": 10,
   "id": "f79751ec-070d-48c4-9b09-a564b0b52101",
   "metadata": {},
   "outputs": [
    {
     "name": "stderr",
     "output_type": "stream",
     "text": [
      "/var/folders/m6/nmg96kbd65n3tz43pzrdnnw00000gn/T/ipykernel_63913/3360906629.py:42: FutureWarning: Dropping of nuisance columns in DataFrame reductions (with 'numeric_only=None') is deprecated; in a future version this will raise TypeError.  Select only valid columns before calling the reduction.\n",
      "  results['total'] = results.sum(axis=1)\n"
     ]
    }
   ],
   "source": [
    "### Get precinct results\n",
    "voting_region_results = get_vote_region_pct(candidates, '21', '109361', '277443')\n",
    "pghmayoral21 = pd.concat([pghmayoral21, voting_region_results[pghmayoral21.columns]])"
   ]
  },
  {
   "cell_type": "markdown",
   "id": "196c2952-e5f6-4685-9df5-71f450b889cc",
   "metadata": {},
   "source": [
    "### Results"
   ]
  },
  {
   "cell_type": "code",
   "execution_count": 11,
   "id": "1241df30-1957-459b-a0d4-6b87de7550dc",
   "metadata": {},
   "outputs": [
    {
     "data": {
      "text/html": [
       "<div>\n",
       "<style scoped>\n",
       "    .dataframe tbody tr th:only-of-type {\n",
       "        vertical-align: middle;\n",
       "    }\n",
       "\n",
       "    .dataframe tbody tr th {\n",
       "        vertical-align: top;\n",
       "    }\n",
       "\n",
       "    .dataframe thead th {\n",
       "        text-align: right;\n",
       "    }\n",
       "</style>\n",
       "<table border=\"1\" class=\"dataframe\">\n",
       "  <thead>\n",
       "    <tr style=\"text-align: right;\">\n",
       "      <th></th>\n",
       "      <th>class</th>\n",
       "      <th>type</th>\n",
       "      <th>pct_gain21</th>\n",
       "      <th>pct_pedu21</th>\n",
       "      <th>pct_othe21</th>\n",
       "      <th>pct_hall19</th>\n",
       "      <th>pct_defa19</th>\n",
       "      <th>pct_othe19</th>\n",
       "    </tr>\n",
       "  </thead>\n",
       "  <tbody>\n",
       "    <tr>\n",
       "      <th>0</th>\n",
       "      <td>vote_type</td>\n",
       "      <td>mail</td>\n",
       "      <td>0.357575</td>\n",
       "      <td>0.526308</td>\n",
       "      <td>0.116116</td>\n",
       "      <td>0.000000</td>\n",
       "      <td>0.000000</td>\n",
       "      <td>0.000000</td>\n",
       "    </tr>\n",
       "    <tr>\n",
       "      <th>1</th>\n",
       "      <td>vote_type</td>\n",
       "      <td>eday</td>\n",
       "      <td>0.525235</td>\n",
       "      <td>0.312933</td>\n",
       "      <td>0.161832</td>\n",
       "      <td>0.000000</td>\n",
       "      <td>0.000000</td>\n",
       "      <td>0.000000</td>\n",
       "    </tr>\n",
       "    <tr>\n",
       "      <th>2</th>\n",
       "      <td>pgh_region</td>\n",
       "      <td>nside</td>\n",
       "      <td>0.483487</td>\n",
       "      <td>0.368371</td>\n",
       "      <td>0.148141</td>\n",
       "      <td>0.617364</td>\n",
       "      <td>0.379242</td>\n",
       "      <td>0.003394</td>\n",
       "    </tr>\n",
       "    <tr>\n",
       "      <th>3</th>\n",
       "      <td>pgh_region</td>\n",
       "      <td>somon</td>\n",
       "      <td>0.307040</td>\n",
       "      <td>0.407361</td>\n",
       "      <td>0.285600</td>\n",
       "      <td>0.518937</td>\n",
       "      <td>0.477582</td>\n",
       "      <td>0.003481</td>\n",
       "    </tr>\n",
       "    <tr>\n",
       "      <th>4</th>\n",
       "      <td>pgh_region</td>\n",
       "      <td>dt_oak_haz</td>\n",
       "      <td>0.509474</td>\n",
       "      <td>0.385675</td>\n",
       "      <td>0.104851</td>\n",
       "      <td>0.600179</td>\n",
       "      <td>0.396694</td>\n",
       "      <td>0.003127</td>\n",
       "    </tr>\n",
       "    <tr>\n",
       "      <th>5</th>\n",
       "      <td>pgh_region</td>\n",
       "      <td>w14</td>\n",
       "      <td>0.441891</td>\n",
       "      <td>0.518149</td>\n",
       "      <td>0.039959</td>\n",
       "      <td>0.752229</td>\n",
       "      <td>0.245672</td>\n",
       "      <td>0.002098</td>\n",
       "    </tr>\n",
       "    <tr>\n",
       "      <th>6</th>\n",
       "      <td>pgh_region</td>\n",
       "      <td>rem_ee</td>\n",
       "      <td>0.617377</td>\n",
       "      <td>0.311485</td>\n",
       "      <td>0.071138</td>\n",
       "      <td>0.619896</td>\n",
       "      <td>0.376373</td>\n",
       "      <td>0.003731</td>\n",
       "    </tr>\n",
       "  </tbody>\n",
       "</table>\n",
       "</div>"
      ],
      "text/plain": [
       "        class        type  pct_gain21  pct_pedu21  pct_othe21  pct_hall19  \\\n",
       "0   vote_type        mail    0.357575    0.526308    0.116116    0.000000   \n",
       "1   vote_type        eday    0.525235    0.312933    0.161832    0.000000   \n",
       "2  pgh_region       nside    0.483487    0.368371    0.148141    0.617364   \n",
       "3  pgh_region       somon    0.307040    0.407361    0.285600    0.518937   \n",
       "4  pgh_region  dt_oak_haz    0.509474    0.385675    0.104851    0.600179   \n",
       "5  pgh_region         w14    0.441891    0.518149    0.039959    0.752229   \n",
       "6  pgh_region      rem_ee    0.617377    0.311485    0.071138    0.619896   \n",
       "\n",
       "   pct_defa19  pct_othe19  \n",
       "0    0.000000    0.000000  \n",
       "1    0.000000    0.000000  \n",
       "2    0.379242    0.003394  \n",
       "3    0.477582    0.003481  \n",
       "4    0.396694    0.003127  \n",
       "5    0.245672    0.002098  \n",
       "6    0.376373    0.003731  "
      ]
     },
     "execution_count": 11,
     "metadata": {},
     "output_type": "execute_result"
    }
   ],
   "source": [
    "dfs = [\n",
    "    pd.DataFrame(BLOCS, columns=['class', 'type']),\n",
    "    pghmayoral21,\n",
    "    acc19\n",
    "]\n",
    "\n",
    "df = reduce(lambda x, y: pd.merge(x,y, on=['class', 'type']), dfs)\n",
    "df"
   ]
  }
 ],
 "metadata": {
  "kernelspec": {
   "display_name": "Python 3 (ipykernel)",
   "language": "python",
   "name": "python3"
  },
  "language_info": {
   "codemirror_mode": {
    "name": "ipython",
    "version": 3
   },
   "file_extension": ".py",
   "mimetype": "text/x-python",
   "name": "python",
   "nbconvert_exporter": "python",
   "pygments_lexer": "ipython3",
   "version": "3.9.15"
  }
 },
 "nbformat": 4,
 "nbformat_minor": 5
}
